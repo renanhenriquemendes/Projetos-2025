{
  "nbformat": 4,
  "nbformat_minor": 0,
  "metadata": {
    "colab": {
      "provenance": [],
      "authorship_tag": "ABX9TyMjK41mkSzKdh5/gwcTWusY",
      "include_colab_link": true
    },
    "kernelspec": {
      "name": "python3",
      "display_name": "Python 3"
    },
    "language_info": {
      "name": "python"
    }
  },
  "cells": [
    {
      "cell_type": "markdown",
      "metadata": {
        "id": "view-in-github",
        "colab_type": "text"
      },
      "source": [
        "<a href=\"https://colab.research.google.com/github/renanhenriquemendes/Projetos-2025/blob/main/Untitled0.ipynb\" target=\"_parent\"><img src=\"https://colab.research.google.com/assets/colab-badge.svg\" alt=\"Open In Colab\"/></a>"
      ]
    },
    {
      "cell_type": "code",
      "execution_count": null,
      "metadata": {
        "id": "IgPRnsaUsyC1"
      },
      "outputs": [],
      "source": [
        "print(\"I competição de programação dá Start\")\n",
        "ano = \"II\"\n",
        "print(ano, \"competição de programação da Start\")\n",
        "print(f\"{ano} competição de programação da Start\")\n",
        "quantidade_bones = 15\n",
        "## Aula 1\n",
        "## Aula 2\n",
        "livro_ficcao = 8\n",
        "livro_n_ficcao = 10\n",
        "livro_infantil = 6\n",
        "pontos_rodrigo = livro_ficcao + livro_n_ficcao + livro_infantil\n",
        "print(f\"Os pontos totais do Rodrigo são {pontos_rodrigo}\")\n",
        "esmaltes_azuis = 7\n",
        "esmaltes_vermelhos = 18\n",
        "esmaltes_brancos = 12\n",
        "total_de_figurinhas = int(input(\"Digite o total de figurinhas: \"))\n",
        "numero_de_amigos = int(input(\"Digite o número de amigos: \"))\n",
        "figurinhas_amigo = total_de_figurinhas // (numero_de_amigos + 2)\n",
        "total_de_figurinhas = int(input(\"Digite o total de figurinhas: \"))\n",
        "numero_de_amigos = int(input(\"Digite o número de amigos: \"))\n",
        "figurinhas_joao = 2 * figurinhas_amigo\n",
        "print(f\"João recebeu {figurinhas_joao} figurinhas\")\n",
        "\n",
        "total_jogos = int(input(\"Digite o total de jogos: \"))\n",
        "\n",
        "numero_amigos = int(input(\"Digite o número de amigos: \"))\n",
        "\n",
        "jogos_por_amigo = total_jogos // numero_amigos\n",
        "\n",
        "resto = total_jogos % numero_amigos\n",
        "\n",
        "print(f\"Cada amigo recebe {jogos_por_amigo} jogos.\")\n",
        "\n",
        "print(f\"Restam {resto} jogos.\")\n",
        "\n",
        "idade_atual = int(input(\"Digite sua idade atual: \"))\n",
        "\n",
        "anos_adicionar = int(input(\"Quantos anos você quer adicionar? \"))\n",
        "\n",
        "idade_futura = idade_atual + anos_adicionar\n",
        "\n",
        "print(f\"Daqui a {anos_adicionar} anos, você terá {idade_futura} anos.\")\n",
        "\n",
        "base = input(\"Digite a base do triângulo: \")\n",
        "\n",
        "altura = input(\"Digite a altura do triângulo: \")\n",
        "\n",
        "area = base * altura / 2\n",
        "\n",
        "print(f\"A área do triângulo é {area}.\")\n",
        "numero_de_alunos = int(input(\"Digite a quantidade de alunos: \"))\n",
        "numero_de_monitores = int(input(\"Digite a quantidade de monitores: \"))\n",
        "if numero_de_alunos + numero_de_monitores <= 50:\n",
        "  resposta_positiva = \"pode ir\"\n",
        "resposta_negativa = \"não pode ir\"\n",
        "if numero_de_alunos + numero_de_monitores <= 50:\n",
        "print(resposta_positiva)\n",
        "else:\n",
        "print(resposta_negativa)\n",
        "\n",
        "peso_item1 = int(input(\"Digite o peso do item 1: \"))\n",
        "peso_item2 = int(input(\"Digite o peso do item 2: \"))\n",
        "\n",
        "\n",
        "if peso_item1 + peso_item2 <= 20:\n",
        "    print(\"Os itens cabem no carrinho.\")\n",
        "else:\n",
        "    print(\"Os itens excedem o peso permitido.\")\n",
        ""
      ]
    }
  ]
}